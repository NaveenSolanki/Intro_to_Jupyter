{
 "cells": [
  {
   "cell_type": "markdown",
   "id": "a4dc0838",
   "metadata": {},
   "source": [
    "## 2. In Jupyter Notebooks, there are primarily two types of cells:\n",
    "\n",
    "\n"
   ]
  },
  {
   "cell_type": "markdown",
   "id": "e613fedb",
   "metadata": {},
   "source": [
    "### Code cells: \n",
    "-> These cells are used to write and execute code snippets in languages like Python, R, Julia, etc."
   ]
  },
  {
   "cell_type": "code",
   "execution_count": 3,
   "id": "86fd50ef",
   "metadata": {},
   "outputs": [
    {
     "name": "stdout",
     "output_type": "stream",
     "text": [
      "8\n"
     ]
    }
   ],
   "source": [
    "a = 3\n",
    "b = 5\n",
    "print(a+b)"
   ]
  },
  {
   "cell_type": "markdown",
   "id": "5a2237a2",
   "metadata": {},
   "source": [
    "### Markdown cells: \n",
    "-> These cells contain text written in Markdown, which is a lightweight markup language. Markdown cells are used to add explanations, documentation, headings, lists, links, images, etc., to the notebook."
   ]
  },
  {
   "cell_type": "markdown",
   "id": "720e72d4",
   "metadata": {},
   "source": [
    "* This is a Markdown cell"
   ]
  },
  {
   "cell_type": "markdown",
   "id": "91994327",
   "metadata": {},
   "source": [
    "## Introduction to Jupyter Notebooks\n",
    "\n",
    "Jupyter Notebooks are interactive computing environments that enable users to create and share documents containing live code, equations, visualizations, and explanatory text. They support various programming languages, including Python, R, Julia, and more. With Jupyter Notebooks, users can explore data, prototype algorithms, visualize results, and narrate their computational processes in a single interface.\n"
   ]
  },
  {
   "cell_type": "code",
   "execution_count": 9,
   "id": "6129a600",
   "metadata": {},
   "outputs": [
    {
     "name": "stdout",
     "output_type": "stream",
     "text": [
      "15 is greater than 10\n"
     ]
    }
   ],
   "source": [
    "# Simple Python Expression\n",
    "n = 15\n",
    "m = 10\n",
    "if(n < m):\n",
    "    print(f'{n} is smaller than {m}')\n",
    "else:\n",
    "    print(f'{n} is greater than {m}')"
   ]
  },
  {
   "cell_type": "markdown",
   "id": "70d7d502",
   "metadata": {},
   "source": [
    "## 3. Basic Markdown syntax for text formatting:\n",
    "* Headings: Use \"#\" followed by a space for headings. The number of \"#\" symbols indicates the level of the heading.\n",
    "* Bold: Surround the text with double asterisks (**text**) or double underscores (__text__).\n",
    "* Italic: Surround the text with single asterisks (*text*) or single underscores (_text_)."
   ]
  },
  {
   "cell_type": "markdown",
   "id": "ea3e81ba",
   "metadata": {},
   "source": [
    "## Practice creating Markdown cells with formatted text and headings:"
   ]
  },
  {
   "cell_type": "markdown",
   "id": "2a924d92",
   "metadata": {},
   "source": [
    "# HEADING 1\n",
    "## HEADING 2\n",
    "### HEADING 3\n",
    "#### HEADING 4"
   ]
  },
  {
   "cell_type": "markdown",
   "id": "6008911b",
   "metadata": {},
   "source": [
    "## Insert images and hyperlinks using Markdown syntax:\n",
    "Embedding an image is very similar to adding a link in Markdown:\n",
    "\n",
    "![Alt text](URL or file path)\n",
    "\n",
    "* Add an exclamation mark !\n",
    "* Followed by the alt text in square brackets [Alt text]\n",
    "* And the path or URL to the image asset in parentheses ( )."
   ]
  },
  {
   "cell_type": "markdown",
   "id": "4cc8cce0",
   "metadata": {},
   "source": [
    "![Sonny and Mariel high fiving.](https://content.codecademy.com/courses/learn-cpp/community-challenge/highfive.gif)'"
   ]
  },
  {
   "cell_type": "markdown",
   "id": "2c6ca2d4",
   "metadata": {},
   "source": [
    "Linked Images\n",
    "To add a link to an image, enclose the Markdown for the image in brackets, and then add the link in parentheses.\n",
    "\n",
    "[![A mushroom-head robot](/assets/images/codey.jpg 'Codey the Codecademy mascot')](https://codecademy.com)"
   ]
  },
  {
   "cell_type": "markdown",
   "id": "831760a2",
   "metadata": {},
   "source": [
    "## My favorite programming languages:\n",
    "1. Python\n",
    "2. C++\n",
    "3. C\n",
    "4. Java\n",
    "5. Rust\n"
   ]
  },
  {
   "cell_type": "markdown",
   "id": "96d6fcdd",
   "metadata": {},
   "source": [
    "## 4. Write a Python function that calculates the factorial of a given number:"
   ]
  },
  {
   "cell_type": "code",
   "execution_count": 20,
   "id": "ab8fa87f",
   "metadata": {},
   "outputs": [],
   "source": [
    "def factorial(n):\n",
    "    if n == 0:\n",
    "        return 1\n",
    "    else:\n",
    "        return n * factorial(n - 1)"
   ]
  },
  {
   "cell_type": "code",
   "execution_count": 22,
   "id": "c28b131e",
   "metadata": {},
   "outputs": [
    {
     "name": "stdout",
     "output_type": "stream",
     "text": [
      "120\n",
      "1\n",
      "6\n"
     ]
    }
   ],
   "source": [
    "print(factorial(5))  # Output: 120\n",
    "print(factorial(0))  # Output: 1\n",
    "print(factorial(3))  # Output: 6"
   ]
  },
  {
   "cell_type": "markdown",
   "id": "92d94a9e",
   "metadata": {},
   "source": [
    "## Import a Python library (e.g., NumPy) and use it to perform a mathematical operation (e.g., calculate mean, median)"
   ]
  },
  {
   "cell_type": "code",
   "execution_count": 29,
   "id": "d5c1ac03",
   "metadata": {},
   "outputs": [
    {
     "name": "stdout",
     "output_type": "stream",
     "text": [
      "Mean: 5.5\n",
      "Median: 5.5\n"
     ]
    }
   ],
   "source": [
    "import numpy as np\n",
    "\n",
    "# Calculate mean and median using NumPy\n",
    "data = [1, 2, 3, 4, 5, 6, 7, 8, 9, 10]\n",
    "mean_value = np.mean(data)\n",
    "median_value = np.median(data)\n",
    "\n",
    "print(\"Mean:\", mean_value)  # Output: 5.5\n",
    "print(\"Median:\", median_value)  # Output: 5.5"
   ]
  },
  {
   "cell_type": "markdown",
   "id": "9b958a9c",
   "metadata": {},
   "source": [
    "## Visualize data using Matplotlib or Seaborn libraries within a Jupyter Notebook:"
   ]
  },
  {
   "cell_type": "code",
   "execution_count": 30,
   "id": "8495af24",
   "metadata": {},
   "outputs": [
    {
     "name": "stdout",
     "output_type": "stream",
     "text": [
      "Requirement already satisfied: matplotlib in c:\\users\\navee\\anaconda3\\lib\\site-packages (3.7.2)\n",
      "Requirement already satisfied: contourpy>=1.0.1 in c:\\users\\navee\\anaconda3\\lib\\site-packages (from matplotlib) (1.0.5)\n",
      "Requirement already satisfied: cycler>=0.10 in c:\\users\\navee\\anaconda3\\lib\\site-packages (from matplotlib) (0.11.0)\n",
      "Requirement already satisfied: fonttools>=4.22.0 in c:\\users\\navee\\anaconda3\\lib\\site-packages (from matplotlib) (4.25.0)\n",
      "Requirement already satisfied: kiwisolver>=1.0.1 in c:\\users\\navee\\anaconda3\\lib\\site-packages (from matplotlib) (1.4.4)\n",
      "Requirement already satisfied: numpy>=1.20 in c:\\users\\navee\\anaconda3\\lib\\site-packages (from matplotlib) (1.24.3)\n",
      "Requirement already satisfied: packaging>=20.0 in c:\\users\\navee\\anaconda3\\lib\\site-packages (from matplotlib) (23.1)\n",
      "Requirement already satisfied: pillow>=6.2.0 in c:\\users\\navee\\anaconda3\\lib\\site-packages (from matplotlib) (10.0.1)\n",
      "Requirement already satisfied: pyparsing<3.1,>=2.3.1 in c:\\users\\navee\\anaconda3\\lib\\site-packages (from matplotlib) (3.0.9)\n",
      "Requirement already satisfied: python-dateutil>=2.7 in c:\\users\\navee\\anaconda3\\lib\\site-packages (from matplotlib) (2.8.2)\n",
      "Requirement already satisfied: six>=1.5 in c:\\users\\navee\\anaconda3\\lib\\site-packages (from python-dateutil>=2.7->matplotlib) (1.16.0)\n"
     ]
    }
   ],
   "source": [
    "! pip install matplotlib"
   ]
  },
  {
   "cell_type": "code",
   "execution_count": 31,
   "id": "8197e785",
   "metadata": {},
   "outputs": [
    {
     "data": {
      "image/png": "[encoded data removed]",
      "text/plain": [
       "<Figure size 640x480 with 1 Axes>"
      ]
     },
     "metadata": {},
     "output_type": "display_data"
    }
   ],
   "source": [
    "import matplotlib.pyplot as plt\n",
    "\n",
    "# Create some sample data\n",
    "x = np.arange(0, 10, 0.1)\n",
    "y = np.sin(x)\n",
    "\n",
    "# Create a line plot using Matplotlib\n",
    "plt.plot(x, y)\n",
    "plt.title('Sine Wave')\n",
    "plt.xlabel('X-axis')\n",
    "plt.ylabel('Y-axis')\n",
    "plt.grid(True)\n",
    "plt.show()"
   ]
  },
  {
   "cell_type": "markdown",
   "id": "e4521b61",
   "metadata": {},
   "source": [
    "## 5. Understand what a kernel is in the context of Jupyter Notebooks:\n",
    "In the context of Jupyter Notebooks, a kernel is a computational engine that executes the code contained in a notebook document. It provides support for various programming languages like Python, R, Julia, etc. The kernel receives the code, executes it, and sends the results back to the notebook interface."
   ]
  },
  {
   "cell_type": "markdown",
   "id": "bef16bc8",
   "metadata": {},
   "source": [
    "## Learn how to switch kernels in a Jupyter Notebook:\n",
    "To switch kernels in a Jupyter Notebook:\n",
    "\n",
    "* Click on the \"Kernel\" menu.\n",
    "* Select \"Change kernel.\"\n",
    "* Choose the desired kernel from the list of available kernels."
   ]
  },
  {
   "cell_type": "markdown",
   "id": "94e8f864",
   "metadata": {},
   "source": [
    "## Reset the kernel and clear the outputs. Observe how this affects your notebook:\n",
    "To reset the kernel and clear the outputs in a Jupyter Notebook:\n",
    "\n",
    "Click on the \"Kernel\" menu.\n",
    "Select \"Restart & Clear Output\" to reset the kernel and clear all outputs from the notebook.\n",
    "Observations:\n",
    "\n",
    "Resetting the kernel clears all variables and functions stored in memory, effectively starting fresh.\n",
    "Clearing the outputs removes the results of code execution from the notebook, but the kernel state remains unchanged."
   ]
  },
  {
   "cell_type": "markdown",
   "id": "4b07c84d",
   "metadata": {},
   "source": [
    "## 6. Explore different file formats for exporting your Jupyter Notebook: PDF, HTML, slideshows, etc.\n",
    "Jupyter Notebooks provide several options for exporting your work into different file formats. Some of the common export formats include:\n",
    "\n",
    "1. PDF: Portable Document Format, which is widely used for sharing documents.\n",
    "2. HTML: HyperText Markup Language, suitable for web-based sharing.\n",
    "3. Slideshows: Export your notebook as slides for presentations.\n",
    "4. Markdown: Export your notebook to a Markdown file."
   ]
  },
  {
   "cell_type": "markdown",
   "id": "a4d3929c",
   "metadata": {},
   "source": [
    "## Export your notebook as a PDF and HTML file.\n",
    "To export your notebook, you can follow these steps:\n",
    "\n",
    "Click on \"File\" in the Jupyter Notebook menu.\n",
    "\n",
    "Choose \"Download as\" and select the desired format, such as PDF or HTML."
   ]
  },
  {
   "cell_type": "markdown",
   "id": "1ad3e65a",
   "metadata": {},
   "source": [
    "## Discuss when different export formats might be useful.\n",
    "* PDF: Useful for creating a static, printable version of your notebook. It's widely supported and maintains a consistent layout across different devices.\n",
    "* HTML: Suitable for sharing interactive notebooks online. It preserves the interactive elements and can be easily viewed in a web browser.\n",
    "* Slideshows: Great for presenting your work in a slideshow format. It allows you to create a dynamic presentation directly from your notebook.\n",
    "* Markdown: If you want to share your code and explanations in a more lightweight format, you can export to Markdown, which can be easily converted to other formats or used for version control."
   ]
  },
  {
   "cell_type": "markdown",
   "id": "0a51d814",
   "metadata": {},
   "source": [
    "## 7. About nbviewer, an online tool to view Jupyter Notebooks:\n",
    "nbviewer is a web service that allows us to view Jupyter Notebooks stored on the internet without needing to execute them. It renders the notebooks as static web pages, making them easy to share and view online."
   ]
  },
  {
   "cell_type": "markdown",
   "id": "25db5646",
   "metadata": {},
   "source": [
    "## Upload notebook to a public GitHub repository:\n",
    "To upload notebook to a public GitHub repository, we can follow these steps:\n",
    "\n",
    "Create a new repository on GitHub.\n",
    "Upload Jupyter Notebook file (.ipynb) to the repository.\n",
    "Commit changes and push them to the remote repository."
   ]
  },
  {
   "cell_type": "code",
   "execution_count": null,
   "id": "ebe53662",
   "metadata": {},
   "outputs": [],
   "source": []
  }
 ],
 "metadata": {
  "kernelspec": {
   "display_name": "Python 3 (ipykernel)",
   "language": "python",
   "name": "python3"
  },
  "language_info": {
   "codemirror_mode": {
    "name": "ipython",
    "version": 3
   },
   "file_extension": ".py",
   "mimetype": "text/x-python",
   "name": "python",
   "nbconvert_exporter": "python",
   "pygments_lexer": "ipython3",
   "version": "3.11.5"
  }
 },
 "nbformat": 4,
 "nbformat_minor": 5
}
